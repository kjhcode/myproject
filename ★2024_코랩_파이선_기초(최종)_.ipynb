{
  "nbformat": 4,
  "nbformat_minor": 0,
  "metadata": {
    "colab": {
      "private_outputs": true,
      "provenance": [],
      "gpuType": "T4",
      "authorship_tag": "ABX9TyMw+AUO28Z0uzcUWUl99dnZ",
      "include_colab_link": true
    },
    "kernelspec": {
      "name": "python3",
      "display_name": "Python 3"
    },
    "language_info": {
      "name": "python"
    },
    "accelerator": "GPU"
  },
  "cells": [
    {
      "cell_type": "markdown",
      "metadata": {
        "id": "view-in-github",
        "colab_type": "text"
      },
      "source": [
        "<a href=\"https://colab.research.google.com/github/kjhcode/myproject/blob/main/%E2%98%852024_%EC%BD%94%EB%9E%A9_%ED%8C%8C%EC%9D%B4%EC%84%A0_%EA%B8%B0%EC%B4%88(%EC%B5%9C%EC%A2%85)_.ipynb\" target=\"_parent\"><img src=\"https://colab.research.google.com/assets/colab-badge.svg\" alt=\"Open In Colab\"/></a>"
      ]
    },
    {
      "cell_type": "markdown",
      "source": [
        "## 구글 드라이브에서 구글 코랩 메뉴가 보이지 않는다면?   \n",
        "1. [신규] - [더보기] - [연결할 앱 더보기] 메뉴를 클릭합니다.   \n",
        "2. Google Workspace Marketplace 에서 'colab'라고 검색하면 'Colaboratory'가 나옵니다.   \n",
        "3. 'Colaboratory' 를 설치합니다.\n",
        "\n"
      ],
      "metadata": {
        "id": "DZpFGp-W6bai"
      }
    },
    {
      "cell_type": "markdown",
      "source": [
        "**코랩의 하드 웨어 성능**"
      ],
      "metadata": {
        "id": "kYl8KolCr--O"
      }
    },
    {
      "cell_type": "markdown",
      "source": [
        "**OS환경**\n",
        "\n"
      ],
      "metadata": {
        "id": "MqgVvI06sEPn"
      }
    },
    {
      "cell_type": "code",
      "source": [
        "!cat /etc/os-release"
      ],
      "metadata": {
        "id": "VwJyYnmIr3Ik"
      },
      "execution_count": null,
      "outputs": []
    },
    {
      "cell_type": "markdown",
      "source": [
        "**CPU 사양**"
      ],
      "metadata": {
        "id": "k1JNAZHssRER"
      }
    },
    {
      "cell_type": "code",
      "source": [
        "!head /proc/cpuinfo"
      ],
      "metadata": {
        "id": "-hMpOY-BsD1b"
      },
      "execution_count": null,
      "outputs": []
    },
    {
      "cell_type": "markdown",
      "source": [
        "**메모리 사양**"
      ],
      "metadata": {
        "id": "EAqmFzLOspzZ"
      }
    },
    {
      "cell_type": "code",
      "source": [
        "!head -n 3 /proc/meminfo"
      ],
      "metadata": {
        "id": "YVm8BnURsr5C"
      },
      "execution_count": null,
      "outputs": []
    },
    {
      "cell_type": "markdown",
      "source": [
        "**CPU**"
      ],
      "metadata": {
        "id": "v7v9oJkgszG3"
      }
    },
    {
      "cell_type": "code",
      "source": [
        "!nvidia-smi"
      ],
      "metadata": {
        "id": "TzLARt9Ms1mT"
      },
      "execution_count": null,
      "outputs": []
    },
    {
      "cell_type": "markdown",
      "source": [
        "**Python 버전**"
      ],
      "metadata": {
        "id": "Y-8KWpj9uNlo"
      }
    },
    {
      "cell_type": "code",
      "source": [
        "!python  --version"
      ],
      "metadata": {
        "id": "92Ok5P86uOEc"
      },
      "execution_count": null,
      "outputs": []
    },
    {
      "cell_type": "markdown",
      "source": [
        "**파일명 변경**   \n",
        "* ipynb : IPython notebooks\n",
        "\n",
        "\n",
        "**메뉴 설명**  \n",
        "**코드 / 텍스트 메뉴**"
      ],
      "metadata": {
        "id": "Fp7ShXjYE_Zd"
      }
    },
    {
      "cell_type": "markdown",
      "source": [],
      "metadata": {
        "id": "sjeQpk4J6Xjc"
      }
    },
    {
      "cell_type": "markdown",
      "source": [
        "**셀 추가 / 삭제**   \n",
        "상단의 \"+코드\" , \"+텍스트\"를 눌러서 삽입합니다.\n",
        "\n",
        "\n",
        "**[실행 관련 단축키]**   \n",
        "해당 셀을 실행하고 커서는 해당 셀(Ctrl + Enter)   \n",
        "해당 셀을 실행하고 커서는 다음 셀(Shift + Enter)   \n",
        "해당 셀을 실행하고 커서는 다음에 셀 삽입( AIt + Enter)      \n",
        "\n",
        "\n",
        "**[셀 추가 관련 단축키]**   \n",
        "코드 셀 위에 삽입(Ctrl + M A)   \n",
        "코드 셀 아래에 삽입(Ctrl + M B)   \n",
        "코드 셀 삭제(Ctrl + M D)   \n",
        "\n",
        "\n",
        "**혹시 단축키를 모를경우**      \n",
        "키보드 단축키 보기 : Ctrl + M H\n",
        "\n",
        "\n",
        "**실행과 출력**   \n",
        "셀 : 실행의 단위   \n",
        "실행:재생 버튼을 클릭하여, 실행(해당 셀 실행)   \n",
        "실행순서 : 인터프리터 방식으로 실행하며 순차적으로 메모리에 기억합니다.   \n",
        "\n",
        "\n",
        "**셀의 타입 변경**   \n",
        "코드 셀로 변경(Ctrl + M Y)   \n",
        "마크다운 셀로 변경(Ctrl + M Y)   "
      ],
      "metadata": {
        "id": "z1Q9NJIoFStD"
      }
    },
    {
      "cell_type": "markdown",
      "source": [
        "**공유 하는 방법**   \n"
      ],
      "metadata": {
        "id": "z0g6i5plw3ro"
      }
    },
    {
      "cell_type": "markdown",
      "source": [
        "**파일 업로드 방법**   \n",
        "1. 컴퓨터 에서 파일 직접 업로드 하기   \n",
        "   from google.colab import files\n",
        "   myfile = files.upload()  \n",
        "   클릭 - 파일선택 - 파일업로드 완료\n",
        "\n",
        "2. 구글 드라이브 마운트\n",
        "    from google.colab import drive\n",
        "    drive.mount('/content/drive)  \n",
        "    셀실행 - 계정 로그인 - 복사 -붙여넣기 - Mount 메시지 나타남."
      ],
      "metadata": {
        "id": "zYe6mNsIxGod"
      }
    },
    {
      "cell_type": "markdown",
      "source": [
        "# 출력함수\n"
      ],
      "metadata": {
        "id": "lc0M6_MS7NkJ"
      }
    },
    {
      "cell_type": "code",
      "source": [
        "print(1+2)\n",
        "print('1+2')\n",
        "print(\"1+2\")\n",
        "#print('1+2\")\n",
        "print('안녕하세요')\n",
        "#print(안녕하세요)"
      ],
      "metadata": {
        "id": "7A4tls1-6LN5"
      },
      "execution_count": null,
      "outputs": []
    },
    {
      "cell_type": "code",
      "source": [
        "print(2,3,4,)\n",
        "print('파이선', 2)\n",
        "print('파이선',\"공부중\")\n",
        "print('파이선'+\"공부중\")"
      ],
      "metadata": {
        "id": "j-NZEmTf6sJ1"
      },
      "execution_count": null,
      "outputs": []
    },
    {
      "cell_type": "code",
      "source": [
        "print('파이선'*20)"
      ],
      "metadata": {
        "id": "L0aZV5BQGFGv"
      },
      "execution_count": null,
      "outputs": []
    },
    {
      "cell_type": "markdown",
      "source": [
        "**print() 함수를 이용하여 자기 소개 프로그램 구현**   \n",
        "1. 나의 이름은\n",
        "2. 학교는\n",
        "3. 좋아하는 색깔은\n",
        "4. 지금 하고 싶은 일은?  등등등"
      ],
      "metadata": {
        "id": "XFRC0Zk0GJXh"
      }
    },
    {
      "cell_type": "markdown",
      "source": [
        "# 변수   \n",
        "1.   변수의 정의\n",
        "*   컴퓨터에 값을 저장하는 공간   \n",
        "*   항상 값이 변함   \n",
        "*   새로운 변수를 만드는 것을 선언이라 함\n",
        "*   선언시 값을 저장하는 것을 초기화라고 함\n",
        "*   변수 하나에 하나의 데이터만 저장(맨 마지막에 들어온 데이터)\n",
        "*   파이썬에서 변수 초기화 하는 값에 따라 자료형이 결정됨\n",
        "\n",
        "\n",
        "2.   변수명 정하는 방법\n",
        "*   변수명은 영문, 한글, 숫자, _(언더바) 사용 가능\n",
        "*   그러나 맨 앞에 숫자가 오는건 금지\n",
        "*   대소문자 구분\n",
        "*   공백 금지\n",
        "*   예약어 사용 금지\n",
        "*   변수에 어떤 값이 입력되어 있는지 예측할 수 있는 변수명을 지정하는게 좋다.\n",
        "\n",
        "\n",
        "\n"
      ],
      "metadata": {
        "id": "QhnAlKWI7TIZ"
      }
    },
    {
      "cell_type": "code",
      "source": [
        "a=2\n",
        "b=3\n",
        "print(a+b)\n",
        "\n",
        "name=\"홍길동\"\n",
        "print(name)\n",
        "\n",
        "age=20\n",
        "print(age)"
      ],
      "metadata": {
        "id": "oTkhsa3Z6u55"
      },
      "execution_count": null,
      "outputs": []
    },
    {
      "cell_type": "markdown",
      "source": [
        "# 입력함수   \n",
        "input : 입력을 받아 변수에 대입한다.\n",
        "\n",
        "1.   input()\n",
        "2.   변수 = input()  \n",
        "3.   input()으로 받는 데이터의 형태는 문자로 저장된다.\n",
        "\n",
        "\n",
        "*   input()으로 받는 데이트를 연산에 사용하려면 자료형을 변경해야 한다.\n",
        "*   정수(int)  실수(float)\n",
        "\n",
        "\n",
        "\n",
        "\n",
        "\n",
        "\n",
        "\n"
      ],
      "metadata": {
        "id": "XEEUsNsh8d85"
      }
    },
    {
      "cell_type": "code",
      "source": [
        "a=input()\n",
        "print(a)"
      ],
      "metadata": {
        "id": "RuDjB0sM9Iin"
      },
      "execution_count": null,
      "outputs": []
    },
    {
      "cell_type": "markdown",
      "source": [
        "**문자 연결 연산자 **   \n",
        "*  ,(데이터 사이 공백 존재)\n",
        "*   +(데이터 사이 공백 없음)\n",
        "\n"
      ],
      "metadata": {
        "id": "ilQ56GlvGvWS"
      }
    },
    {
      "cell_type": "code",
      "source": [
        "a=input(\"이름은?\")\n",
        "print(\"나의 이름은\", a ,\"입니다\")\n",
        "print(\"나의 이름은\", a +\"입니다\")"
      ],
      "metadata": {
        "id": "4N7EfPbrGsl1"
      },
      "execution_count": null,
      "outputs": []
    },
    {
      "cell_type": "code",
      "source": [
        "밑변=10\n",
        "높이=20\n",
        "넓이=(밑변*높이)/2\n",
        "print(넓이)"
      ],
      "metadata": {
        "id": "8qowde599W9T"
      },
      "execution_count": null,
      "outputs": []
    },
    {
      "cell_type": "code",
      "source": [
        "밑변=input(\"밑변을 입력하세요\")\n",
        "높이=input(\"높이을 입력하세요\")\n",
        "밑변=float(밑변)\n",
        "높이=float(높이)\n",
        "넓이=(밑변*높이)/2\n",
        "print(\"삼각형의 넓이\",넓이,\"입니다.\")"
      ],
      "metadata": {
        "id": "edYDeFBkG_dW"
      },
      "execution_count": null,
      "outputs": []
    },
    {
      "cell_type": "code",
      "source": [
        "r=input('반지름을 입력하세요')\n",
        "pi=3.14\n",
        "r=float(r)\n",
        "둘레=(2*pi*r)\n",
        "넓이=(r*r*pi)\n",
        "print(넓이)"
      ],
      "metadata": {
        "id": "waFPrqX59uHK"
      },
      "execution_count": null,
      "outputs": []
    },
    {
      "cell_type": "code",
      "source": [
        "x=int(input('첫번째 수'))\n",
        "y=int(input('두번째 수'))\n",
        "print('입력한 수:', x,',',y)\n",
        "print('두 수의 합은', x+y,\"입니다.\")\n",
        "print('두 수의 합은', str(x+y)+\"입니다.\")"
      ],
      "metadata": {
        "id": "b_CR3G-VA51J"
      },
      "execution_count": null,
      "outputs": []
    },
    {
      "cell_type": "markdown",
      "source": [
        "**세수를 입력받아 합계와 평균을 구하는 프로그램을 작성하세요.**"
      ],
      "metadata": {
        "id": "ZRkkHFCHHNq5"
      }
    },
    {
      "cell_type": "code",
      "source": [
        "type(변수)"
      ],
      "metadata": {
        "id": "RLGTuHK5-aC2"
      },
      "execution_count": null,
      "outputs": []
    },
    {
      "cell_type": "markdown",
      "source": [
        "# 연산자\n",
        "1.   산술연산\n",
        "2.   비교연산\n",
        "3.    논리연산   \n",
        "4.    불연산\n"
      ],
      "metadata": {
        "id": "GtmGW01r-gdg"
      }
    },
    {
      "cell_type": "code",
      "source": [
        "a=12\n",
        "b=5\n",
        "print(a/b)\n",
        "print(a//b)\n",
        "print(a%b)"
      ],
      "metadata": {
        "id": "jpEFN32j-wHG"
      },
      "execution_count": null,
      "outputs": []
    },
    {
      "cell_type": "code",
      "source": [
        "a=3\n",
        "b=4\n",
        "print(a>b)\n",
        "print(a<b)\n",
        "print(a>=b)\n",
        "print(a<=b)\n",
        "print(a==b)\n",
        "print(a!=b)"
      ],
      "metadata": {
        "id": "cWUAx-iO-f0G"
      },
      "execution_count": null,
      "outputs": []
    },
    {
      "cell_type": "code",
      "source": [
        "a=3\n",
        "b=4\n",
        "print(a>b)  and print(a!=b)"
      ],
      "metadata": {
        "id": "VXwKJh3FIhDG"
      },
      "execution_count": null,
      "outputs": []
    },
    {
      "cell_type": "code",
      "source": [
        "a=3\n",
        "b=4\n",
        "print(a<b)  and print(a!=b)"
      ],
      "metadata": {
        "id": "wUDvvFYpItTe"
      },
      "execution_count": null,
      "outputs": []
    },
    {
      "cell_type": "code",
      "source": [
        "a=3\n",
        "b=4\n",
        "print(a>b)  or print(a!=b)"
      ],
      "metadata": {
        "id": "n-ipisHwIwuA"
      },
      "execution_count": null,
      "outputs": []
    },
    {
      "cell_type": "markdown",
      "source": [
        "**리스트**   \n",
        "**list [  ]**\n",
        " 주소가 0번부터 시작\n",
        "\n",
        " **슬라이싱**   \n",
        "    a[ x  :  y :   z ]  \n",
        "      이상  미만  간격"
      ],
      "metadata": {
        "id": "BFBgkDN2-xLh"
      }
    },
    {
      "cell_type": "code",
      "source": [
        "a=\"안녕하세요\"\n",
        "print(a[1])"
      ],
      "metadata": {
        "id": "7NHwEh4P1vVY"
      },
      "execution_count": null,
      "outputs": []
    },
    {
      "cell_type": "code",
      "source": [
        "a=[1,2]\n",
        "b=[3,4,5]\n",
        "print(a+b)\n",
        "print(a[1]+b[2])"
      ],
      "metadata": {
        "id": "Y5SQH9Sk0-b7"
      },
      "execution_count": null,
      "outputs": []
    },
    {
      "cell_type": "code",
      "source": [
        "a=[1,2,3,4,5,6,7,8,9]\n",
        "b= 'firstman studly'\n",
        "print(a)\n",
        "print(b)\n",
        "print(a[0])\n",
        "print(a[2:4])\n",
        "print(a[2:8:2])\n",
        "print(a[:4])\n",
        "print(a[4:])\n",
        "print(a[::2])\n",
        "print(a[::-1])\n",
        "print(b[2:8:2])   #빈공간도 주소를 갖음/"
      ],
      "metadata": {
        "id": "NDtDvZ37-0Fq"
      },
      "execution_count": null,
      "outputs": []
    },
    {
      "cell_type": "code",
      "source": [
        "a=[1,2,3,4,5,6,7,8,9]\n",
        "a.append(10)\n",
        "print(a)\n",
        "a.insert(2,100)\n",
        "print(a)\n",
        "a.remove(10)\n",
        "print(a)\n",
        "a.reverse()\n",
        "print(a)\n",
        "a.sort()\n",
        "\n",
        "print(a)"
      ],
      "metadata": {
        "id": "TWzcpk1Q7wM_"
      },
      "execution_count": null,
      "outputs": []
    },
    {
      "cell_type": "markdown",
      "source": [
        "**dictionary**  (사전)    \n",
        "{키:값, 키:값, 키:값, 키:값, }"
      ],
      "metadata": {
        "id": "t720GsQX_tBF"
      }
    },
    {
      "cell_type": "code",
      "source": [
        "dic={1:'a', 2:'b', 3:'c'}\n",
        "dic_2={'자':\"쥐\",\"축\":\"소\",\"인\":\"호랑이\"}\n",
        "print(dic)\n",
        "print(dic_2)\n",
        "print(dic[2])   #[2]는 키값(2:'b')을 이야기함\n",
        "dic[6]='f'\n",
        "print(dic)"
      ],
      "metadata": {
        "id": "NlMx0j19B650"
      },
      "execution_count": null,
      "outputs": []
    },
    {
      "cell_type": "markdown",
      "source": [
        "# 포맷팅  \n",
        "formatting(자료의 입출력)   \n",
        "형식  :  '{   }'.format(변수명)\n",
        "      변수가 들어갈 자리"
      ],
      "metadata": {
        "id": "D9I1en_gDhuN"
      }
    },
    {
      "cell_type": "code",
      "source": [
        "a=5\n",
        "b=7\n",
        "print('첫번째 수:{}'.format(a))\n",
        "print('{}'.format(b))\n",
        "print('두번째 수:{}'.format(a+b))"
      ],
      "metadata": {
        "id": "GvxJt_DyDvWH"
      },
      "execution_count": null,
      "outputs": []
    },
    {
      "cell_type": "code",
      "source": [
        "x=input('첫번째 수')\n",
        "print('입력한 수:{}'.format(x))"
      ],
      "metadata": {
        "id": "-JkdrZcOEvvb"
      },
      "execution_count": null,
      "outputs": []
    },
    {
      "cell_type": "code",
      "source": [
        "x=input('첫번째 수')\n",
        "y=input('두번째 수')\n",
        "print('입력한 수:{},{}'.format(x,y))"
      ],
      "metadata": {
        "id": "1zdhrtTwFMT_"
      },
      "execution_count": null,
      "outputs": []
    },
    {
      "cell_type": "code",
      "source": [
        "x=input('첫번째 수')\n",
        "y=input('두번째 수')\n",
        "print('입력한 수:{},{}'.format(x,y))\n",
        "print('두 수의 합:{}'.format(x+y))   #문자열임... 숫자로 변경해서 계산해야 함."
      ],
      "metadata": {
        "id": "dN6g7n0yFiPo"
      },
      "execution_count": null,
      "outputs": []
    },
    {
      "cell_type": "code",
      "source": [
        "x=int(input('첫번째 수'))\n",
        "y=int(input('두번째 수'))\n",
        "print('입력한 수:{},{}'.format(x,y))\n",
        "print('두 수의 합:{}'.format(x+y))"
      ],
      "metadata": {
        "id": "0ZHqWD3vGQt2"
      },
      "execution_count": null,
      "outputs": []
    },
    {
      "cell_type": "code",
      "source": [
        "x=int(input('첫번째 수'))\n",
        "y=int(input('두번째 수'))\n",
        "print('입력한 수:', x,y)\n",
        "print('두 수의 합은', x+y)"
      ],
      "metadata": {
        "id": "av1hv79eGbcw"
      },
      "execution_count": null,
      "outputs": []
    },
    {
      "cell_type": "code",
      "source": [
        "x,y=input('첫번째 수,두번째 수').split()\n",
        "print('입력한 수:{},{}'.format(x,y))"
      ],
      "metadata": {
        "id": "UvdGcU_hFTNi"
      },
      "execution_count": null,
      "outputs": []
    },
    {
      "cell_type": "code",
      "source": [
        "num1=int(input('첫번째 숫자를 입력하세요'))\n",
        "num2=int(input('두번째 숫자를 입력하세요'))\n",
        "\n",
        "print('{}+{}={}'.format(num1,num2,num1+num2))\n",
        "print('{}*{}={}'.format(num1,num2,num1*num2))"
      ],
      "metadata": {
        "id": "qc5XU-lBLGT4"
      },
      "execution_count": null,
      "outputs": []
    },
    {
      "cell_type": "code",
      "source": [
        "name=input('이름을 입력하세요')\n",
        "age=int(input('나이를 입력하세요'))\n",
        "print('당신의 이름은',name,'이고',age,'살 입니다.')\n",
        "print('당신의 이름은 {}이고  {}살 입니다.'.format(name,age))"
      ],
      "metadata": {
        "id": "OS8YzIlALHaW"
      },
      "execution_count": null,
      "outputs": []
    },
    {
      "cell_type": "markdown",
      "source": [
        "# 모듈과 메써드   \n",
        "\n",
        "1.   모듈 : 함수, 변수, 클래스 ,메써드등을 모아 놓은 파일   \n",
        "            (예: random, numpy, pandas, matplolib)   \n",
        "          -> library에 탑재되어 있고 필요시 호출되어 사용\n",
        "2.   메써드 : 모듈에 종속되어 명령을 수행하게 하는 작은 함수   \n",
        "             (예:random.choice()   np.mean()   pd.Series()\n",
        "\n",
        "\n"
      ],
      "metadata": {
        "id": "R2_JjCUWHYbh"
      }
    },
    {
      "cell_type": "markdown",
      "source": [
        "##range\n",
        "range(x) : 0~x 미만   \n",
        "range(x,y) : x이상 y미만"
      ],
      "metadata": {
        "id": "R2nKH81FIbc5"
      }
    },
    {
      "cell_type": "code",
      "source": [
        "import random\n",
        "lot = range(46)   #0~45까지의 수\n",
        "print(random.choice(lot))"
      ],
      "metadata": {
        "id": "7TihVPsCHp7X"
      },
      "execution_count": null,
      "outputs": []
    },
    {
      "cell_type": "code",
      "source": [
        "import random\n",
        "lot = range(46)   #0~45까지의 수\n",
        "print('숫자 6개는:',random.sample(lot, 6))"
      ],
      "metadata": {
        "id": "3nmkQ1mDHvQV"
      },
      "execution_count": null,
      "outputs": []
    },
    {
      "cell_type": "code",
      "source": [
        "import random\n",
        "lot = range(1, 46)   #1~45까지의 수\n",
        "print(random.choice(lot))\n",
        "print('로또 예상 번호는:',random.sample(lot, 6))"
      ],
      "metadata": {
        "id": "I1uKVMZwJCfC"
      },
      "execution_count": null,
      "outputs": []
    },
    {
      "cell_type": "code",
      "source": [
        "lot2=random.randint(1,45)  #1이상 45이하\n",
        "print(lot2)"
      ],
      "metadata": {
        "id": "EOPT4YTNJmZz"
      },
      "execution_count": null,
      "outputs": []
    },
    {
      "cell_type": "markdown",
      "source": [
        "# 제어문\n",
        "## if문"
      ],
      "metadata": {
        "id": "ozE87oJAJ2BH"
      }
    },
    {
      "cell_type": "code",
      "source": [
        "num=int(input('숫자를 입력하세요'))\n",
        "if num>90:\n",
        "  print('합격')\n"
      ],
      "metadata": {
        "id": "KLEHHSgZH6ZK"
      },
      "execution_count": null,
      "outputs": []
    },
    {
      "cell_type": "code",
      "source": [
        "num=int(input('숫자를 입력하세요'))\n",
        "if num>90:\n",
        "  print('합격')\n",
        "\n",
        "else:\n",
        "  print('불합격')\n"
      ],
      "metadata": {
        "id": "13uDc-kGIDq6"
      },
      "execution_count": null,
      "outputs": []
    },
    {
      "cell_type": "code",
      "source": [
        "num=int(input('숫자를 입력하세요'))\n",
        "if num>90:\n",
        "  print('합격')\n",
        "  print(\"축하합니다\")\n",
        "else:\n",
        "  print('불합격')\n",
        "  print(\"힘내세요\")"
      ],
      "metadata": {
        "id": "6u_zhEUJH-Gg"
      },
      "execution_count": null,
      "outputs": []
    },
    {
      "cell_type": "code",
      "source": [
        "num=int(input('숫자를 입력하세요'))\n",
        "if num%2==0:\n",
        "  print('짝수')\n",
        "else:\n",
        "  print('홀수')"
      ],
      "metadata": {
        "id": "wZceOBBJKGut"
      },
      "execution_count": null,
      "outputs": []
    },
    {
      "cell_type": "code",
      "source": [
        "num=int(input('숫자를 입력하세요'))\n",
        "if num%2==0:\n",
        "  print('입력한 숫자',num,'은 짝수')\n",
        "else:\n",
        "  print('입력한 숫자',num,'은 홀수')"
      ],
      "metadata": {
        "id": "DKgShY2WKZv5"
      },
      "execution_count": null,
      "outputs": []
    },
    {
      "cell_type": "code",
      "source": [
        "#중첩 if\n",
        "import random\n",
        "com=random.randint(1,10)\n",
        "user=int(input('숫자를 입력하세요'))\n",
        "if user>com:\n",
        "  print('그 보다 큰 수 입니다.')\n",
        "elif user<com:\n",
        "  print('그 보다 작은 수 입니다.')\n",
        "else:\n",
        "  print('정답입니다.')"
      ],
      "metadata": {
        "id": "7zBBExR-KPmu"
      },
      "execution_count": null,
      "outputs": []
    },
    {
      "cell_type": "code",
      "source": [
        "#중첩 if\n",
        "import random\n",
        "com=random.randint(1,10)\n",
        "while True:\n",
        "  user=int(input('1~10까지 어떤 수가 나올까요?'))\n",
        "  if com>user:\n",
        "    print('그 보다 큰 수 입니다.')\n",
        "  elif com<user:\n",
        "    print('그 보다 작은 수 입니다.')\n",
        "  else:\n",
        "    print('정답입니다.')\n",
        "    break"
      ],
      "metadata": {
        "id": "TnzYwoaaL2vz"
      },
      "execution_count": null,
      "outputs": []
    },
    {
      "cell_type": "code",
      "source": [
        "# for 변수 in 컨테이너\n",
        "for name in '파이썬 공부중' :\n",
        "  print(name)\n"
      ],
      "metadata": {
        "id": "tdS7M5k-MoDY"
      },
      "execution_count": null,
      "outputs": []
    },
    {
      "cell_type": "code",
      "source": [
        "for x in range(5): #0~4\n",
        "  print(x)"
      ],
      "metadata": {
        "id": "zmlHzArxNRU-"
      },
      "execution_count": null,
      "outputs": []
    },
    {
      "cell_type": "code",
      "source": [
        "sum=0\n",
        "for x in range(5): #0~4\n",
        "  sum=sum+x\n",
        "print(sum)"
      ],
      "metadata": {
        "id": "eL5mhbyoNeTp"
      },
      "execution_count": null,
      "outputs": []
    },
    {
      "cell_type": "code",
      "source": [
        "sum=0\n",
        "for x in range(5): #0~4\n",
        "  sum=sum+x\n",
        "print(sum)"
      ],
      "metadata": {
        "id": "zlY-4kY4N1ux"
      },
      "execution_count": null,
      "outputs": []
    },
    {
      "cell_type": "code",
      "source": [
        "for i in range(5):\n",
        "  print(\"★\")"
      ],
      "metadata": {
        "id": "f5H7G1feIPBF"
      },
      "execution_count": null,
      "outputs": []
    },
    {
      "cell_type": "markdown",
      "source": [
        "**세수를 입력받아 최대갑과 최소값을 구하는 프로그램을 구현하세요.**"
      ],
      "metadata": {
        "id": "LCH9Wm5nIaLA"
      }
    },
    {
      "cell_type": "code",
      "source": [
        "a=input('수를 입력하세요')\n",
        "b=input('수를 입력하세요')\n",
        "c=input('수를 입력하세요')\n",
        "a=int(a)\n",
        "b=int(b)\n",
        "c=int(c)\n",
        "if a>b and a>c:\n",
        "  print(a)\n",
        "elif b>a and b>c:\n",
        "  print(b)\n",
        "else:\n",
        "  print(c)"
      ],
      "metadata": {
        "id": "A7Hwu72HFVIA"
      },
      "execution_count": null,
      "outputs": []
    },
    {
      "cell_type": "code",
      "source": [
        "a, b, c=input('세 수를 입력하세요').split()\n",
        "a=int(a)\n",
        "b=int(b)\n",
        "c=int(c)\n",
        "if a>b and a>c:\n",
        "  print(a)\n",
        "elif b>a and b>c:\n",
        "  print(b)\n",
        "else:\n",
        "  print(c)"
      ],
      "metadata": {
        "id": "ItiAprCFD61Q"
      },
      "execution_count": null,
      "outputs": []
    },
    {
      "cell_type": "code",
      "source": [
        "a, b, c=map(int,input('세 수를 입력하세요').split())\n",
        "\n",
        "if a>b and a>c:\n",
        "  print(a)\n",
        "elif b>a and b>c:\n",
        "  print(b)\n",
        "else:\n",
        "  print(c)"
      ],
      "metadata": {
        "id": "z76lZ-sDElHp"
      },
      "execution_count": null,
      "outputs": []
    },
    {
      "cell_type": "markdown",
      "source": [
        "# 함수   \n",
        "input  -  함수   - output"
      ],
      "metadata": {
        "id": "xjpex2EDOFmf"
      }
    },
    {
      "cell_type": "code",
      "source": [
        "def hap(num1,num2):\n",
        "  sum= num1+num2\n",
        "  return sum\n",
        "\n",
        "x=int(input('첫번째 수'))\n",
        "y=int(input('두번째 수'))\n",
        "print('두 수의 합:',hap(x,y))"
      ],
      "metadata": {
        "id": "iuDsyWT6OQCK"
      },
      "execution_count": null,
      "outputs": []
    }
  ]
}