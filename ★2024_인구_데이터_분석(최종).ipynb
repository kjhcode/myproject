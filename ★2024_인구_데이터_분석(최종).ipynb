{
  "cells": [
    {
      "cell_type": "markdown",
      "metadata": {
        "id": "view-in-github",
        "colab_type": "text"
      },
      "source": [
        "<a href=\"https://colab.research.google.com/github/kjhcode/myproject/blob/main/%E2%98%852024_%EC%9D%B8%EA%B5%AC_%EB%8D%B0%EC%9D%B4%ED%84%B0_%EB%B6%84%EC%84%9D(%EC%B5%9C%EC%A2%85).ipynb\" target=\"_parent\"><img src=\"https://colab.research.google.com/assets/colab-badge.svg\" alt=\"Open In Colab\"/></a>"
      ]
    },
    {
      "cell_type": "code",
      "source": [
        "!sudo apt-get install -y fonts-nanum\n",
        "!sudo fc-cache -fv\n",
        "!rm ~/.cache/matplotlib -rf"
      ],
      "metadata": {
        "id": "LQtpZnXz_fio"
      },
      "execution_count": null,
      "outputs": []
    },
    {
      "cell_type": "code",
      "source": [],
      "metadata": {
        "id": "VE1XV9WvMO93"
      },
      "execution_count": null,
      "outputs": []
    },
    {
      "cell_type": "code",
      "source": [
        "import matplotlib\n",
        "import matplotlib.pyplot as plt\n",
        "plt.rc('font', family='NanumGothic')\n",
        "plt.rcParams['axes.unicode_minus'] =False  # 마이너스 글자 깨짐 현상 방지 명령어"
      ],
      "metadata": {
        "id": "Ekuv_3LE_iN1"
      },
      "execution_count": null,
      "outputs": []
    },
    {
      "cell_type": "code",
      "execution_count": null,
      "metadata": {
        "id": "_G9r9VjYkjsJ"
      },
      "outputs": [],
      "source": [
        "import csv\n",
        "f =open('age1.csv')\n",
        "data = csv.reader(f)\n",
        "next(data)  # 헤더 제거\n",
        "for row in data :\n",
        "    print(row)\n"
      ]
    },
    {
      "cell_type": "code",
      "execution_count": null,
      "metadata": {
        "id": "R7dxIMuWkjsL"
      },
      "outputs": [],
      "source": [
        "import csv\n",
        "f =open('age1.csv')\n",
        "data = csv.reader(f)\n",
        "next(data)\n",
        "home = []  #입력 받은 지역의 데이터를 저장할 리스트 생성\n",
        "name = input('인구 구조가 알고 싶은 지역의 이름(읍면동 단위)을 입력해주세요 : ')\n",
        "for row in data :\n",
        "    if name in row[0] : #입력 받은 지역의 이름이 포함된 행 찾기\n",
        "        for i in row[3:] : #3번 인덱스 값부터 슬라이싱\n",
        "            home.append(int(i)) #입력 받은 지역의 데이터를 home에 저장\n",
        "print(home) #home에 저장된 데이터 출력"
      ]
    },
    {
      "cell_type": "code",
      "execution_count": null,
      "metadata": {
        "id": "uHE6s1TXkjsL"
      },
      "outputs": [],
      "source": [
        "import numpy as np\n",
        "import csv\n",
        "f =open('age1.csv')\n",
        "data = csv.reader(f)\n",
        "next(data)\n",
        "data = list(data)\n",
        "name = input('인구 구조가 알고 싶은 지역의 이름(읍면동 단위)을 입력해주세요 : ')\n",
        "for row in data :\n",
        "    if name in row[0] :\n",
        "        home = np.array(row[3:], dtype =int) / int(row[2])  #수정\n",
        "\n",
        "import matplotlib.pyplot as plt\n",
        "plt.style.use('ggplot')\n",
        "plt.figure(figsize = (10,5), dpi=300)\n",
        "plt.rc('font', family='NanumGothic')\n",
        "plt.title(name +' 지역의 인구 구조')\n",
        "\n",
        "plt.plot(home)\n",
        "plt.show()"
      ]
    },
    {
      "cell_type": "code",
      "execution_count": null,
      "metadata": {
        "id": "khDX9sZZkjsL"
      },
      "outputs": [],
      "source": [
        "import numpy as np\n",
        "import csv\n",
        "f =open('age1.csv')\n",
        "data = csv.reader(f) # ➊\n",
        "next(data)\n",
        "name = input('인구 구조가 알고 싶은 지역의 이름(읍면동 단위)을 입력해주세요 : ')\n",
        "for row in data : # ➋\n",
        "    if name in row[0] :\n",
        "        home = np.array(row[3:], dtype =int) / int(row[2]) # ➌\n",
        "for row in data : # ➍\n",
        "    print(row) # ➎"
      ]
    },
    {
      "cell_type": "code",
      "execution_count": null,
      "metadata": {
        "id": "EGI3jCwxkjsM"
      },
      "outputs": [],
      "source": [
        "import numpy as np\n",
        "import csv\n",
        "f =open('age1.csv')\n",
        "data = csv.reader(f) # ➊\n",
        "next(data)\n",
        "data = list(data)  #추가\n",
        "name = input('인구 구조가 알고 싶은 지역의 이름(읍면동 단위)을 입력해주세요 : ')\n",
        "for row in data : # ➋\n",
        "    if name in row[0] :\n",
        "        home = np.array(row[3:], dtype =int) / int(row[2]) # ➌\n",
        "for row in data : # ➍\n",
        "    print(row) # ➎"
      ]
    },
    {
      "cell_type": "code",
      "execution_count": null,
      "metadata": {
        "id": "fNYScK0zkjsM"
      },
      "outputs": [],
      "source": [
        "import numpy as np\n",
        "import csv\n",
        "f =open('age1.csv')\n",
        "data = csv.reader(f)\n",
        "next(data)\n",
        "data = list(data)  #추가\n",
        "name = input('인구 구조가 알고 싶은 지역의 이름(읍면동 단위)을 입력해주세요 : ')\n",
        "for row in data :\n",
        "    if name in row[0] :\n",
        "        home = np.array(row[3:], dtype =int) / int(row[2])\n",
        "for row in data :\n",
        "    away = np.array(row[3:], dtype = int) / int(row[2])\n",
        "    print(home - away)"
      ]
    },
    {
      "cell_type": "code",
      "execution_count": null,
      "metadata": {
        "id": "5dZ0bDEJkjsM"
      },
      "outputs": [],
      "source": [
        "import numpy as np\n",
        "import csv\n",
        "f =open('age1.csv')\n",
        "data = csv.reader(f)\n",
        "next(data)\n",
        "data = list(data)  #추가\n",
        "name = input('인구 구조가 알고 싶은 지역의 이름(읍면동 단위)을 입력해주세요 : ')\n",
        "for row in data :\n",
        "    if name in row[0] :\n",
        "        home = np.array(row[3:], dtype =int) / int(row[2])\n",
        "for row in data :\n",
        "    away = np.array(row[3:], dtype = int) / int(row[2])\n",
        "    print(np.sum(home - away))"
      ]
    },
    {
      "cell_type": "code",
      "execution_count": null,
      "metadata": {
        "scrolled": true,
        "id": "auvKBEQbkjsM",
        "colab": {
          "base_uri": "https://localhost:8080/",
          "height": 386
        },
        "outputId": "5cd89a28-8163-4ece-c7af-6aa58faace26"
      },
      "outputs": [
        {
          "name": "stdout",
          "output_type": "stream",
          "text": [
            "인구 구조가 알고 싶은 지역의 이름(읍면동 단위)을 입력해주세요 : 문흥1동\n"
          ]
        },
        {
          "output_type": "error",
          "ename": "KeyboardInterrupt",
          "evalue": "",
          "traceback": [
            "\u001b[0;31m---------------------------------------------------------------------------\u001b[0m",
            "\u001b[0;31mKeyboardInterrupt\u001b[0m                         Traceback (most recent call last)",
            "\u001b[0;32m<ipython-input-16-5d582b9ddd48>\u001b[0m in \u001b[0;36m<cell line: 11>\u001b[0;34m()\u001b[0m\n\u001b[1;32m     14\u001b[0m     \u001b[0;32mfor\u001b[0m \u001b[0mrow\u001b[0m \u001b[0;32min\u001b[0m \u001b[0mdata\u001b[0m \u001b[0;34m:\u001b[0m \u001b[0;31m# ➏\u001b[0m\u001b[0;34m\u001b[0m\u001b[0;34m\u001b[0m\u001b[0m\n\u001b[1;32m     15\u001b[0m         \u001b[0maway\u001b[0m \u001b[0;34m=\u001b[0m \u001b[0mnp\u001b[0m\u001b[0;34m.\u001b[0m\u001b[0marray\u001b[0m\u001b[0;34m(\u001b[0m\u001b[0mrow\u001b[0m\u001b[0;34m[\u001b[0m\u001b[0;36m3\u001b[0m\u001b[0;34m:\u001b[0m\u001b[0;34m]\u001b[0m\u001b[0;34m,\u001b[0m \u001b[0mdtype\u001b[0m \u001b[0;34m=\u001b[0m \u001b[0mint\u001b[0m\u001b[0;34m)\u001b[0m \u001b[0;34m/\u001b[0m \u001b[0mint\u001b[0m\u001b[0;34m(\u001b[0m\u001b[0mrow\u001b[0m\u001b[0;34m[\u001b[0m\u001b[0;36m2\u001b[0m\u001b[0;34m]\u001b[0m\u001b[0;34m)\u001b[0m \u001b[0;31m# ➋\u001b[0m\u001b[0;34m\u001b[0m\u001b[0;34m\u001b[0m\u001b[0m\n\u001b[0;32m---> 16\u001b[0;31m         \u001b[0ms\u001b[0m \u001b[0;34m=\u001b[0m \u001b[0mnp\u001b[0m\u001b[0;34m.\u001b[0m\u001b[0msum\u001b[0m\u001b[0;34m(\u001b[0m\u001b[0mhome\u001b[0m \u001b[0;34m-\u001b[0m \u001b[0maway\u001b[0m\u001b[0;34m)\u001b[0m \u001b[0;31m# ➌\u001b[0m\u001b[0;34m\u001b[0m\u001b[0;34m\u001b[0m\u001b[0m\n\u001b[0m\u001b[1;32m     17\u001b[0m         \u001b[0;32mif\u001b[0m \u001b[0ms\u001b[0m \u001b[0;34m<\u001b[0m \u001b[0mmn\u001b[0m \u001b[0;34m:\u001b[0m \u001b[0;31m# ➍\u001b[0m\u001b[0;34m\u001b[0m\u001b[0;34m\u001b[0m\u001b[0m\n\u001b[1;32m     18\u001b[0m             \u001b[0mmn\u001b[0m \u001b[0;34m=\u001b[0m \u001b[0ms\u001b[0m \u001b[0;31m# ➎\u001b[0m\u001b[0;34m\u001b[0m\u001b[0;34m\u001b[0m\u001b[0m\n",
            "\u001b[0;32m/usr/local/lib/python3.10/dist-packages/numpy/core/fromnumeric.py\u001b[0m in \u001b[0;36m_sum_dispatcher\u001b[0;34m(a, axis, dtype, out, keepdims, initial, where)\u001b[0m\n\u001b[1;32m   2170\u001b[0m \u001b[0;34m\u001b[0m\u001b[0m\n\u001b[1;32m   2171\u001b[0m \u001b[0;34m\u001b[0m\u001b[0m\n\u001b[0;32m-> 2172\u001b[0;31m def _sum_dispatcher(a, axis=None, dtype=None, out=None, keepdims=None,\n\u001b[0m\u001b[1;32m   2173\u001b[0m                     initial=None, where=None):\n\u001b[1;32m   2174\u001b[0m     \u001b[0;32mreturn\u001b[0m \u001b[0;34m(\u001b[0m\u001b[0ma\u001b[0m\u001b[0;34m,\u001b[0m \u001b[0mout\u001b[0m\u001b[0;34m)\u001b[0m\u001b[0;34m\u001b[0m\u001b[0;34m\u001b[0m\u001b[0m\n",
            "\u001b[0;31mKeyboardInterrupt\u001b[0m: "
          ]
        }
      ],
      "source": [
        "import numpy as np\n",
        "import csv\n",
        "f = open('age1.csv')\n",
        "data = csv.reader(f)\n",
        "next(data)\n",
        "data = list(data)\n",
        "name = input('인구 구조가 알고 싶은 지역의 이름(읍면동 단위)을 입력해주세요 : ')\n",
        "mn = 1 # 최솟값을 저장할 변수 생성 및 초기화\n",
        "result_name = '' # 최솟값을 갖는 지역의 이름을 저장할 변수 생성 및 초기화\n",
        "result = 0 # 최솟값을 갖는 지역의 연령대별 인구 비율을 저장할 배열 생성 및 초기화\n",
        "for row in data :\n",
        "    if name in row[0] :\n",
        "        home = np.array(row[3:], dtype = int) / int(row[2]) # ➊\n",
        "    for row in data : # ➏\n",
        "        away = np.array(row[3:], dtype = int) / int(row[2]) # ➋\n",
        "        s = np.sum(home - away) # ➌\n",
        "        if s < mn : # ➍\n",
        "            mn = s # ➎\n",
        "            result_name = row[0]\n",
        "            result = away\n",
        "\n",
        "import matplotlib.pyplot as plt\n",
        "plt.plot(home)\n",
        "plt.plot(result)\n",
        "plt.show()"
      ]
    },
    {
      "cell_type": "code",
      "execution_count": null,
      "metadata": {
        "id": "VIZvjBepkjsM"
      },
      "outputs": [],
      "source": [
        "import numpy as np\n",
        "import csv\n",
        "#1. 데이터를 읽어온다.\n",
        "f =open('age1.csv')\n",
        "data = csv.reader(f)\n",
        "next(data)\n",
        "data = list(data)\n",
        "#2. 궁금한 지역의 이름을 입력받는다.\n",
        "name = input('인구 구조가 알고 싶은 지역의 이름(읍면동 단위)을 입력해주세요 : ')\n",
        "mn =1\n",
        "result_name =''\n",
        "result =0\n",
        "#3. 궁금한 지역의 인구 구조를 저장한다.\n",
        "for row in data :\n",
        "    if name in row[0] :\n",
        "        home = np.array(row[3:], dtype =int) /int(row[2])\n",
        "#4. 궁금한 지역의 인구 구조와 가장 비슷한 인구 구조를 가진 지역을 찾는다.\n",
        "for row in data :\n",
        "    away = np.array(row[3:], dtype =int) /int(row[2])\n",
        "    s = np.sum((home - away) **2)\n",
        "    if s < mn and name not in row[0] :\n",
        "        mn = s\n",
        "        result_name = row[0]\n",
        "        result = away\n",
        "#5. 궁금한 지역의 인구 구조와 가장 비슷한 곳의 인구 구조를 시각화한다.\n",
        "import matplotlib.pyplot as plt\n",
        "plt.style.use('ggplot')\n",
        "plt.figure(figsize = (10,5), dpi=300)\n",
        "plt.rc('font', family='NanumGothic')\n",
        "plt.title(name +' 지역과 가장 비슷한 인구 구조를 가진 지역')\n",
        "plt.plot(home, label = name)\n",
        "plt.plot(result, label = result_name)\n",
        "plt.legend()\n",
        "plt.xlabel('age')  # x 축 라벨 설정\n",
        "plt.ylabel('Ratio')  # y 축 라벨 설정\n",
        "plt.show()\n"
      ]
    }
  ],
  "metadata": {
    "kernelspec": {
      "display_name": "Python 3",
      "language": "python",
      "name": "python3"
    },
    "language_info": {
      "codemirror_mode": {
        "name": "ipython",
        "version": 3
      },
      "file_extension": ".py",
      "mimetype": "text/x-python",
      "name": "python",
      "nbconvert_exporter": "python",
      "pygments_lexer": "ipython3",
      "version": "3.7.1"
    },
    "colab": {
      "provenance": [],
      "include_colab_link": true
    }
  },
  "nbformat": 4,
  "nbformat_minor": 0
}