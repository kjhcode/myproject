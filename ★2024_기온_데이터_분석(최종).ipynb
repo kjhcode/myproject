{
  "nbformat": 4,
  "nbformat_minor": 0,
  "metadata": {
    "colab": {
      "private_outputs": true,
      "provenance": [],
      "gpuType": "T4",
      "authorship_tag": "ABX9TyPS4PeSkybaOmNDzH61XnUL",
      "include_colab_link": true
    },
    "kernelspec": {
      "name": "python3",
      "display_name": "Python 3"
    },
    "language_info": {
      "name": "python"
    },
    "accelerator": "GPU"
  },
  "cells": [
    {
      "cell_type": "markdown",
      "metadata": {
        "id": "view-in-github",
        "colab_type": "text"
      },
      "source": [
        "<a href=\"https://colab.research.google.com/github/kjhcode/myproject/blob/main/%E2%98%852024_%EA%B8%B0%EC%98%A8_%EB%8D%B0%EC%9D%B4%ED%84%B0_%EB%B6%84%EC%84%9D(%EC%B5%9C%EC%A2%85).ipynb\" target=\"_parent\"><img src=\"https://colab.research.google.com/assets/colab-badge.svg\" alt=\"Open In Colab\"/></a>"
      ]
    },
    {
      "cell_type": "markdown",
      "source": [
        "# 데이터 분석을 위한 파이썬 주요 라이브러리\n",
        "**판다스(https://pandas.pydata.org/)**: 파이선에서 데이터 분석을 위한 핵심 라이브러리   \n",
        "*   효율적인 데이터 구조와 분석 도구를 제공하여 데이터 처리 및 분석 작업을 쉽고 빠르게 만들어 줍니다.   \n",
        "\n",
        "**넘파이(https://numpy.org/)**: 파이선에서 수치 계산을 위한 핵심 라이브러리   \n",
        "*   대규모 다차원 배열과 행렬 연산에 필요한 다양한 함수를 제공합니다.\n",
        "*   파이선 내장 리스트에 비해 연산이 효율적이고 빠릅니다.\n",
        "\n",
        "**맷플롯립(https://matplotlib.org/)**: 파이선의 주요 데이터 시각화 라이브러리\n",
        "*   2D 및 3D 그래프를 생성하여 데어터를 직관적으로 표현할 수 있또록 도와줍니다.   \n",
        "*   다양한 플랫폼에서 사용할 수 있으면 많은 파이선 라이브러리와 함께 사용됩니다.   \n",
        "\n",
        "**시본(https://seaborn.pydata.org/)**: 시본은 맷플롯립을 기반으로 하는 파이썬 데이터 시각화 라이브러리\n",
        "*   통계 데이터 시각화에 특화되어 있으며 복잡한 시각화를 더욱 간단하게 만들어 주는 기능을 가지고 있습니다."
      ],
      "metadata": {
        "id": "ds4PkrEiK3H-"
      }
    },
    {
      "cell_type": "markdown",
      "source": [
        "# 주제 : 기온 데이터 분석 및 시각화   \n",
        "**1. 기상 자료 개방 포털**   \n",
        "1.   기후통계분석 - 기온분석 - 검색조건(자료구분:일) -검색 - CSV     \n",
        "2.   연결프로그램 - 메모장 - 데이터 구조화(필요없는 부분 삭제, 맨아래 부분 '' 삭제)\n",
        "3.   다른이름으로 저장 - data1.csv로 / 인코딩(utf-8)\n",
        "4.   코랩 로그인\n"
      ],
      "metadata": {
        "id": "tXDfHZ1kCCMI"
      }
    },
    {
      "cell_type": "markdown",
      "source": [
        "## 파일 업로드 방법   \n",
        "import csv  "
      ],
      "metadata": {
        "id": "eUmkwvCVR0eA"
      }
    },
    {
      "cell_type": "code",
      "execution_count": null,
      "metadata": {
        "id": "giLLP8dnFzrt"
      },
      "outputs": [],
      "source": [
        "import csv                # csv 파일을 파이썬으로 읽어오기 위한 라이브러리\n",
        "f=open('data1.csv')       #data1.csv 파일을 f변수에 저장\n",
        "data=csv.reader(f)        #csv 파일을 data변수에 저장\n"
      ]
    },
    {
      "cell_type": "code",
      "source": [
        "import csv\n",
        "f=open('data1.csv')\n",
        "data=csv.reader(f)\n",
        "header=next(data)\n"
      ],
      "metadata": {
        "id": "qmD7kqX8zPTU"
      },
      "execution_count": null,
      "outputs": []
    },
    {
      "cell_type": "code",
      "source": [
        "import csv\n",
        "f=open('data1.csv')\n",
        "data=csv.reader(f)\n",
        "header=next(data)\n",
        "print(header)\n"
      ],
      "metadata": {
        "id": "ocAS2GChIOEj"
      },
      "execution_count": null,
      "outputs": []
    },
    {
      "cell_type": "code",
      "source": [
        "import csv\n",
        "f=open('data1.csv')\n",
        "data=csv.reader(f)\n",
        "header=next(data)\n",
        "for row in data:\n",
        "  print(row)\n"
      ],
      "metadata": {
        "id": "isk_6WV6Xcou"
      },
      "execution_count": null,
      "outputs": []
    },
    {
      "cell_type": "code",
      "source": [
        "import csv\n",
        "f=open('data1.csv')\n",
        "data=csv.reader(f)\n",
        "header=next(data)\n",
        "print(header)\n",
        "for row in data:\n",
        "  row[-1]=float(row[-1])     #최고 기온을 실수로 변환  / 최고 기온 데이터의 위치는 리스트 맨 뒤이므로 row[-1]로 접근 == row[4]\n",
        "  print(row)\n"
      ],
      "metadata": {
        "id": "P_xVPqaEIroI"
      },
      "execution_count": null,
      "outputs": []
    },
    {
      "cell_type": "code",
      "source": [
        "import csv\n",
        "\n",
        "f=open('data1.csv')\n",
        "data=csv.reader(f)\n",
        "header=next(data)\n",
        "print(header)\n",
        "for row in data:\n",
        "  row[-1]=float(row[-1])\n",
        "  row[-2]=float(row[-2])\n",
        "  print(row)\n"
      ],
      "metadata": {
        "id": "YYiOBEGZJ_Po"
      },
      "execution_count": null,
      "outputs": []
    },
    {
      "cell_type": "markdown",
      "source": [
        "# 기온 공공 데이터에 질문하기\n",
        "1. 기간동안 전주가 가장 더웠던 날은 언제였을까? 과연 그날의 최고 온도는 몇도였을까?   \n",
        "\n",
        "-> 질문을 해결하기 위해 필요한 데이터는?  날짜, 최고기온 데이터   \n",
        "-> 질문을 해결하는데 필요한 절차   \n",
        "  1) 데이터를 읽어온다.   \n",
        "  2) 순차적으로 최고 기온을 확인한다.   \n",
        "  3) 최고 기온이 가장 높았던 날짜의 데이터를 저장한다.   \n",
        "  4) 최종 저장된 데이터를 출력한다."
      ],
      "metadata": {
        "id": "GEeX4nUbqkDk"
      }
    },
    {
      "cell_type": "markdown",
      "source": [
        "**탐색과 비교**   \n",
        "1) 먼저 기준이 되는 값을 설정한다.   \n",
        "2) 기준값과 새로운 값을 비교한다.   \n",
        "3) 기준값보다 더 큰 값이 나타나면 기준값을 업데이트 한다.   \n",
        "4) 이 과정에서 '기준이 되는 값'을 저장할 공간인 '변수'가 필요하다.   "
      ],
      "metadata": {
        "id": "b0fhNyZdWGtq"
      }
    },
    {
      "cell_type": "markdown",
      "source": [
        "**최고 기온이 가장 높았던 날은 언제이며 몇도였는가?**   \n",
        "1) 최고 기온 값을 모두 비교하면서 최고 기온이 가장 높은 날의 날짜와 그 기온 값을 저장할 변수를 정한다.   \n",
        "2) 최고기온을 저장할 변수 max_temp로 정한다.   \n",
        "3) 최고 기온이 가장 높은 날의 날짜를 저장할 변수 max_date로 정한다.   \n",
        "   \n",
        "      \n",
        "         \n",
        "\n",
        "**자연어로 표현**   \n",
        "만약 지금까지의 최고 기온 값보다 현재 행(row)의 최고 기온 값이 더 크다면\n",
        " max_temp < row[-1]:   \n",
        "    \n",
        "최고 기온 날짜 업데이트,   max_date=row[0]   \n",
        "       \n",
        "최고 기온 값 업데이트    max_temp=row[-1]     "
      ],
      "metadata": {
        "id": "Svbuk7hMWiQ1"
      }
    },
    {
      "cell_type": "code",
      "source": [
        "import csv\n",
        "max_temp=-999   #초기값 설정   온도가 높아도 40도를 넘지 않으니 40으로 초기값 지정해도 됨.\n",
        "max_date=' '   #빈 문자열로 초기값 설정\n",
        "f=open('data1.csv')\n",
        "data=csv.reader(f)\n",
        "header=next(data)\n",
        "\n",
        "for row in data:\n",
        "  row[-1]=float(row[-1])\n",
        "  if max_temp < row[-1]:\n",
        "    max_date=row[0]\n",
        "    max_temp=row[-1]\n",
        "print(max_date, max_temp)\n",
        "\n",
        "print('기상 관측 이래 전주의 최고 기온이 가장 높았던 날은'+str(max_date),'로', max_temp,'도 였습니다.')"
      ],
      "metadata": {
        "id": "-FTJSxBjLRPv"
      },
      "execution_count": null,
      "outputs": []
    },
    {
      "cell_type": "markdown",
      "source": [
        "**최저 기온이 가장 낮았던 날은 언제이며 몇도였는가?**    \n",
        "1) 최저 기온 값을 모두 비교하면서 최저 기온이 가장 낮은 날의 날짜와 그 기온 값을 저장할 변수를 정한다.   \n",
        "2) 최저 기온을 저장할 변수 min_temp로 정한다.   \n",
        "3) 최저 기온이 가장 낮은 날의 날짜를 저장할 변수 min_date로 정한다.   \n",
        "\n",
        "자연어로 표현    \n",
        "\n",
        "만약 지금까지의 최저 기온 값보다 현재 행(row)의 최저 기온 값이 더 낮으면 min_temp > row[-2]:   \n",
        "\n",
        "최저 기온 날짜 업데이트, min_date=row[0]    \n",
        "최저 기온 값 업데이트 min_temp=row[-2]    "
      ],
      "metadata": {
        "id": "QNXnv2vEYP6c"
      }
    },
    {
      "cell_type": "code",
      "source": [
        "import csv\n",
        "min_temp=999\n",
        "min_date=' '\n",
        "f=open('data1.csv')\n",
        "data=csv.reader(f)\n",
        "header=next(data)\n",
        "\n",
        "for row in data:\n",
        "  row[-2]=float(row[-2])\n",
        "  if min_temp > row[-2]:\n",
        "    min_date=row[0]\n",
        "    min_temp=row[-2]\n",
        "print(min_date, min_temp)\n",
        "print('기상 관측 이래 전주의 최저 기온이 가장 낮았던 날은',min_date,'로', min_temp,'도 였습니다.')"
      ],
      "metadata": {
        "id": "zGetcE9CNFfy"
      },
      "execution_count": null,
      "outputs": []
    },
    {
      "cell_type": "markdown",
      "source": [
        "# 데이터 시각화 기초   \n",
        "1. 데이터를 그래프로 표현하면 데이터를 직관적으로 이해할 수 있습니다.   \n",
        "2) 데이터의 흐름을 한 눈에 파악할 수 있어 현재 생황을 이해하기 쉽습니다.   \n",
        "3) 앞으로의 변화 추이까지 예측할 수 있습니다.   \n",
        "4) 데이터의 여러 속성들 간 상관관계에 대한 통찰   \n",
        "5) 데이터의 통계적인 속성도 한 눈에 볼수 있다."
      ],
      "metadata": {
        "id": "Z7s_ahQLZTx8"
      }
    },
    {
      "cell_type": "markdown",
      "source": [
        "** 시각화 처리 시 한글 설치 코드 **"
      ],
      "metadata": {
        "id": "Uc2cwsRLYphz"
      }
    },
    {
      "cell_type": "code",
      "source": [
        "!sudo apt-get install -y fonts-nanum\n",
        "!sudo fc-cache -fv\n",
        "!rm ~/.cache/matplotlib -rf"
      ],
      "metadata": {
        "id": "Spe1VmNMC9bq"
      },
      "execution_count": null,
      "outputs": []
    },
    {
      "cell_type": "markdown",
      "source": [
        "**설치가 성공하면**\n",
        " fc-cache: succeeded    \n",
        " 런타임 - 설치 다시 시작 클릭 후 작성"
      ],
      "metadata": {
        "id": "mAeO_YcqYznw"
      }
    },
    {
      "cell_type": "code",
      "source": [
        "import matplotlib\n",
        "import matplotlib.pyplot as plt   #pyplot모듈은 공학용 도구로 널리 알려진 MATLAB과 사용법이 유사합니다.   이 라이브러리를 임포트할 때 plt라는 별명을 사용\n",
        "plt.rc('font', family='NanumGothic')\n",
        "plt.rcParams['axes.unicode_minus'] =False  # 마이너스 글자 깨짐 현상 방지 명령어"
      ],
      "metadata": {
        "id": "lCYkATtVDBza"
      },
      "execution_count": null,
      "outputs": []
    },
    {
      "cell_type": "markdown",
      "source": [
        "**matplotlib**   \n",
        "파이썬으로 데이터를 시각화하는 데는 matplotlib라는 라이브러리르 가장 많이 사용   \n",
        "https://matplotlib.org/ 홈페이지에 소개된 튜토리얼을 참고"
      ],
      "metadata": {
        "id": "uxGa2BVlbG9a"
      }
    },
    {
      "cell_type": "markdown",
      "source": [
        "**plot()함수에 기본 그래프를 그리려면 보통 다음 세 단계를 거친다.**   \n",
        "1) import matplotlib.pyplot as plt : 라이브러리 불러오기   \n",
        "2) plt.plot([x축 데이터], [y축 데이터])   : plot() 함수에 데이터 입력하기  체들의 생성     \n",
        "3) plt.show() : 그래프 보여주기"
      ],
      "metadata": {
        "id": "kk1E_1-1dKrz"
      }
    },
    {
      "cell_type": "markdown",
      "source": [
        "**기본 그래프 작성**"
      ],
      "metadata": {
        "id": "btc3u2xAcMDt"
      }
    },
    {
      "cell_type": "code",
      "source": [
        "import matplotlib.pyplot as plt\n",
        "plt.plot([10,20,30,40])  #plot() 함수에 입력된 리스트는 x축? y축일까요?    x축 값은 자동으로 0부터 1씩 증가하는 정수로 입력됨\n",
        "plt.show()"
      ],
      "metadata": {
        "id": "vwj2cjH9DhSM"
      },
      "execution_count": null,
      "outputs": []
    },
    {
      "cell_type": "code",
      "source": [
        "import matplotlib.pyplot as plt\n",
        "plt.plot([1,2,3,4], [12,43,25,15])\n",
        "plt.show()"
      ],
      "metadata": {
        "id": "OkWwe0sEcoMZ"
      },
      "execution_count": null,
      "outputs": []
    },
    {
      "cell_type": "markdown",
      "source": [
        "**X축 과 Y축 데이터의 개수가 맞이 않으면 에러가 발생**   \n",
        "ValueError: x and y must have same first dimension, but have shapes (4,) and (3,)\n"
      ],
      "metadata": {
        "id": "EbMSBiKec29m"
      }
    },
    {
      "cell_type": "markdown",
      "source": [],
      "metadata": {
        "id": "b9LCj7lY-Fis"
      }
    },
    {
      "cell_type": "markdown",
      "source": [
        "**그래프에 기능 추가하기**    \n",
        "1) 제목 넣기  plt.title(\"제목\")    \n",
        "2) 그래프에 범례 넣기 plt.legend()    \n",
        "3) 그래프 색상 바꾸기      color   \n",
        "4) 그래프 선 모양 바꾸기   linestyle == ls\n",
        "5) 마커 모양 바꾸기   'r.'  'g^'"
      ],
      "metadata": {
        "id": "f8puaE_QdxXA"
      }
    },
    {
      "cell_type": "code",
      "source": [
        "import matplotlib.pyplot as plt\n",
        "plt.plot([10,20,30,40])\n",
        "plt.title(\"제목입력\")\n",
        "plt.show()"
      ],
      "metadata": {
        "id": "Zd1dIqmVOTs7"
      },
      "execution_count": null,
      "outputs": []
    },
    {
      "cell_type": "code",
      "source": [
        "import matplotlib.pyplot as plt\n",
        "plt.title(\"제목입력\")\n",
        "plt.plot([10,20,30,40], label=\"범례1\")\n",
        "plt.plot([40,30,20,10], label=\"범례2\")\n",
        "plt.legend()\n",
        "plt.show()"
      ],
      "metadata": {
        "id": "cNVOuBLWFdR7"
      },
      "execution_count": null,
      "outputs": []
    },
    {
      "cell_type": "markdown",
      "source": [
        "![포맷스타일.jpg](data:image/jpeg;base64,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)"
      ],
      "metadata": {
        "id": "E1hV2OO96_x5"
      }
    },
    {
      "cell_type": "code",
      "source": [
        "import matplotlib.pyplot as plt\n",
        "plt.title(\"color\")\n",
        "plt.plot([10,20,30,40],color=\"skyblue\", label=\"a1\")\n",
        "plt.plot([40,30,20,10],color=\"pink\", label=\"a2\")\n",
        "plt.legend()\n",
        "plt.show()"
      ],
      "metadata": {
        "id": "dukz3PD1GKxy"
      },
      "execution_count": null,
      "outputs": []
    },
    {
      "cell_type": "code",
      "source": [
        "import matplotlib.pyplot as plt\n",
        "plt.title(\"line\")\n",
        "plt.plot([10,20,30,40],color=\"r\", ls='--',label=\"dashed\")\n",
        "plt.plot([40,30,20,10],color=\"g\", linestyle=':',label=\"datted\")\n",
        "plt.legend()\n",
        "plt.show()"
      ],
      "metadata": {
        "id": "XOWy5metGaxg"
      },
      "execution_count": null,
      "outputs": []
    },
    {
      "cell_type": "code",
      "source": [
        "import matplotlib.pyplot as plt\n",
        "plt.title('marker') # 제목 설정\n",
        "plt.plot([10, 20, 30, 40], 'r.', label ='circle')\n",
        "plt.plot([40, 30, 20, 10], 'g^', label ='triangle up')\n",
        "plt.legend() # 범례 표시\n",
        "plt.show()"
      ],
      "metadata": {
        "id": "P0O7w0NyJD0f"
      },
      "execution_count": null,
      "outputs": []
    },
    {
      "cell_type": "markdown",
      "source": [
        "# 내 생일의 기온 변화를 그래프로 그리기   \n",
        "1) 데이터 읽어오기   \n",
        "2) 데이터 리스트에 저장하기   \n"
      ],
      "metadata": {
        "id": "JJFWFzWQe7FB"
      }
    },
    {
      "cell_type": "code",
      "source": [
        "import csv\n",
        "f =open('data1.csv')\n",
        "data = csv.reader(f)\n",
        "next(data)                           # 데이터의 맨 윗줄에 있는 헤더부분을 next() 함수를 사용해 제외시킨 후 최고 기온 데이터만 출력\n",
        "result=[]\n",
        "\n",
        "for row in data:\n",
        "  if row[-1] !='' :\n",
        "    result.append(float(row[-1]))\n",
        "print(result)\n",
        "print(len(result))                      # 데이터 갯수가 몇개인지 len() 함수를 활용"
      ],
      "metadata": {
        "id": "gPAqQAf9fYF8"
      },
      "execution_count": null,
      "outputs": []
    },
    {
      "cell_type": "markdown",
      "source": [
        "  \n",
        "3) 데이터 시각화하기  \n"
      ],
      "metadata": {
        "id": "U87ZQaOThpI3"
      }
    },
    {
      "cell_type": "code",
      "source": [
        "import csv\n",
        "import matplotlib.pyplot as plt\n",
        "f =open('data1.csv')\n",
        "data = csv.reader(f)\n",
        "next(data)\n",
        "result=[]\n",
        "\n",
        "for row in data:\n",
        "  if row[-1] !='' :\n",
        "    result.append(float(row[-1]))\n",
        "print(result)\n",
        "\n",
        "plt.plot(result, 'r')   #빨강색 그래프로 그려라\n",
        "#plt.figure(figsize=(10,2))  # 그래프 크기 조절하기\n",
        "plt.show()"
      ],
      "metadata": {
        "id": "7DIEZf-dgivF"
      },
      "execution_count": null,
      "outputs": []
    },
    {
      "cell_type": "code",
      "source": [
        "import csv\n",
        "import matplotlib.pyplot as plt\n",
        "f =open('data1.csv')\n",
        "data = csv.reader(f)\n",
        "next(data)\n",
        "result=[]\n",
        "\n",
        "for row in data:\n",
        "  if row[-2] !='' :\n",
        "    result.append(float(row[-2]))\n",
        "print(result)\n",
        "\n",
        "plt.plot(result, 'g')   #빨강색 그래프로 그려라\n",
        "#plt.figure(figsize=(10,2))  # 그래프 크기 조절하기\n",
        "plt.show()"
      ],
      "metadata": {
        "id": "CShUeGDJ8tNq"
      },
      "execution_count": null,
      "outputs": []
    },
    {
      "cell_type": "markdown",
      "source": [
        "4) 날짜 데이터 추출하기   \n",
        "   (1) split()  함수 : 사용자가 설정하는 특정 문자를 기준으로 문자열을 분리할 때 사용   \n",
        "   "
      ],
      "metadata": {
        "id": "HgrTxt8zhvC0"
      }
    },
    {
      "cell_type": "code",
      "source": [
        "date='2020-10-01'\n",
        "print(date.split('-'))"
      ],
      "metadata": {
        "id": "F3rZDqLqhwhE"
      },
      "execution_count": null,
      "outputs": []
    },
    {
      "cell_type": "markdown",
      "source": [
        "(2) 리스트의 인덱싱 기능을 활용하면 날짜의 연, 월, 일을 각각 추출할 수 있습니다."
      ],
      "metadata": {
        "id": "k5K8o4kViPLf"
      }
    },
    {
      "cell_type": "code",
      "source": [
        "print(date.split('-')[0])\n",
        "print(date.split('-')[1])\n",
        "print(date.split('-')[2])"
      ],
      "metadata": {
        "id": "fni6waCtiWvL"
      },
      "execution_count": null,
      "outputs": []
    },
    {
      "cell_type": "markdown",
      "source": [
        "**해당 월을 추출 하는 방법**\n",
        "**해당 일을 추출 하는 방법**"
      ],
      "metadata": {
        "id": "Bg9IecCw9xHb"
      }
    },
    {
      "cell_type": "code",
      "source": [
        "#특정한 달에 해당하는 데이터값 출력\n",
        "import csv\n",
        "import matplotlib.pyplot as plt\n",
        "f =open('data1.csv')\n",
        "data = csv.reader(f)\n",
        "next(data)\n",
        "result=[]\n",
        "\n",
        "for row in data:\n",
        "  if row[-1] !='' :       #최고 기온 값이 존재한다면\n",
        "    if row[0].split('-')[1] == '08':      #8월에 해당하는 값이라면\n",
        "      result.append(float(row[-1]))\n",
        "      print(row[0])\n"
      ],
      "metadata": {
        "id": "w6rDToCH9j2a"
      },
      "execution_count": null,
      "outputs": []
    },
    {
      "cell_type": "code",
      "source": [
        "#특정한 날에 해당하는 데이터값 출력\n",
        "import csv\n",
        "import matplotlib.pyplot as plt\n",
        "f =open('data1.csv')\n",
        "data = csv.reader(f)\n",
        "next(data)\n",
        "result=[]\n",
        "\n",
        "for row in data:\n",
        "  if row[-1] !='' :       #최고 기온 값이 존재한다면\n",
        "    if row[0].split('-')[2] == '23':      #23일에 해당하는 값이라면\n",
        "      result.append(float(row[-1]))\n",
        "      print(row[0])"
      ],
      "metadata": {
        "id": "sjTeQF8k97Mw"
      },
      "execution_count": null,
      "outputs": []
    },
    {
      "cell_type": "markdown",
      "source": [
        "(3) 여름의 정점인 8월의 최고 기온 데이터만 추출해서 핫 핑크 색의 그래프로 표현,"
      ],
      "metadata": {
        "id": "BYQhDWQEife9"
      }
    },
    {
      "cell_type": "code",
      "source": [
        "import csv\n",
        "import matplotlib.pyplot as plt\n",
        "f =open('data1.csv')\n",
        "data = csv.reader(f)\n",
        "next(data)\n",
        "result=[]\n",
        "\n",
        "for row in data:\n",
        "  if row[-1] !='' :       #최고 기온 값이 존재한다면\n",
        "    if row[0].split('-')[1] == '08':      #8월에 해당하는 값이라면\n",
        "      result.append(float(row[-1]))    #result 리스트에 최고 기온값 추가\n",
        "      #print(row[0])\n",
        "plt.plot(result, 'hotpink')  #result리스트에 저장된 값을 hotpink 색으로 그리기\n",
        "plt.show()"
      ],
      "metadata": {
        "id": "jgztHVNpipEN"
      },
      "execution_count": null,
      "outputs": []
    },
    {
      "cell_type": "markdown",
      "source": [
        "http://bit.ly/2U5toVX 다양한 색상 확인"
      ],
      "metadata": {
        "id": "l9pgwuqIjUw1"
      }
    },
    {
      "cell_type": "markdown",
      "source": [
        "(4) 매년 돌아오는 생일을 기준으로 그래프를 그려봅시다."
      ],
      "metadata": {
        "id": "pYUePgEHj69V"
      }
    },
    {
      "cell_type": "code",
      "source": [
        "#매년 생일의 데이터 값 출력\n",
        "import csv\n",
        "import matplotlib.pyplot as plt\n",
        "f =open('data1.csv')\n",
        "data = csv.reader(f)\n",
        "next(data)\n",
        "result=[]\n",
        "\n",
        "for row in data:\n",
        "  if row[-1] !='' :\n",
        "    if row[0].split('-')[1] == '01' and row[0].split('-')[2] == '23':\n",
        "      result.append(float(row[-1]))\n",
        "      print(result)\n",
        "#plt.plot(result, 'hotpink')\n",
        "#plt.show()"
      ],
      "metadata": {
        "id": "Sk86zKk7-KZ7"
      },
      "execution_count": null,
      "outputs": []
    },
    {
      "cell_type": "code",
      "source": [
        "import csv\n",
        "import matplotlib.pyplot as plt\n",
        "f =open('data1.csv')\n",
        "data = csv.reader(f)\n",
        "next(data)\n",
        "result=[]\n",
        "\n",
        "for row in data:\n",
        "  if row[-1] !='' :\n",
        "    if row[0].split('-')[1] == '01' and row[0].split('-')[2] == '23':\n",
        "      result.append(float(row[-1]))\n",
        "      #print(result)\n",
        "plt.plot(result)\n",
        "plt.show()"
      ],
      "metadata": {
        "id": "gXFaTNtXj6cv"
      },
      "execution_count": null,
      "outputs": []
    },
    {
      "cell_type": "markdown",
      "source": [
        "x축 연도가 추출되도록   \n",
        "year = [   ] 생성  \n",
        "year.append(row[0])"
      ],
      "metadata": {
        "id": "C0UH4Wl94JDa"
      }
    },
    {
      "cell_type": "code",
      "source": [
        "import csv\n",
        "import matplotlib.pyplot as plt\n",
        "f =open('data1.csv')\n",
        "data = csv.reader(f)\n",
        "next(data)\n",
        "result=[]\n",
        "year = []\n",
        "\n",
        "for row in data:\n",
        "    if row[-1] !='' :\n",
        "        if row[0].split('-')[1] == '01' and row[0].split('-')[2] == '23':\n",
        "            result.append(float(row[-1]))\n",
        "            year.append(row[0])\n",
        "            print(result)\n",
        "            print(year)\n",
        "#plt.plot(result)\n",
        "#plt.show()"
      ],
      "metadata": {
        "id": "m41NLNsw_iQS"
      },
      "execution_count": null,
      "outputs": []
    },
    {
      "cell_type": "code",
      "source": [
        "import csv\n",
        "import matplotlib.pyplot as plt\n",
        "f =open('data1.csv')\n",
        "data = csv.reader(f)\n",
        "next(data)\n",
        "result=[]\n",
        "year = []\n",
        "\n",
        "for row in data:\n",
        "    if row[-1] !='' :\n",
        "        if row[0].split('-')[1] == '01' and row[0].split('-')[2] == '23':\n",
        "            result.append(float(row[-1]))\n",
        "            year.append(row[0])\n",
        "            #print(result)\n",
        "            #print(year)\n",
        "plt.xlabel('Year')  # x 축 라벨 설정\n",
        "plt.ylabel('Temperature')  # y 축 라벨 설정\n",
        "plt.plot(year, result)\n",
        "plt.show()"
      ],
      "metadata": {
        "id": "BM0PhOer201s"
      },
      "execution_count": null,
      "outputs": []
    },
    {
      "cell_type": "markdown",
      "source": [
        "연도만 추출    \n",
        "split('-')"
      ],
      "metadata": {
        "id": "_y04ySGO4gDV"
      }
    },
    {
      "cell_type": "code",
      "source": [
        "import csv\n",
        "import matplotlib.pyplot as plt\n",
        "f =open('data1.csv')\n",
        "data = csv.reader(f)\n",
        "next(data)\n",
        "result=[]\n",
        "year = []\n",
        "\n",
        "for row in data:\n",
        "    if row[-1] !='' :\n",
        "        if row[0].split('-')[1] == '01' and row[0].split('-')[2] == '23':\n",
        "            date = row[0].split('-')\n",
        "            result.append(float(row[-1]))\n",
        "            year.append(date[0])\n",
        "            print(result)\n",
        "            print(year)\n",
        "#plt.xlabel('Year')  # x 축 라벨 설정\n",
        "#plt.ylabel('Temperature')  # y 축 라벨 설정\n",
        "#plt.plot(year, result)\n",
        "#plt.show()"
      ],
      "metadata": {
        "id": "uV2owXzqAFQ9"
      },
      "execution_count": null,
      "outputs": []
    },
    {
      "cell_type": "code",
      "source": [
        "import csv\n",
        "import matplotlib.pyplot as plt\n",
        "f =open('data1.csv')\n",
        "data = csv.reader(f)\n",
        "next(data)\n",
        "result=[]\n",
        "year = []\n",
        "\n",
        "for row in data:\n",
        "    if row[-1] !='' :\n",
        "        if row[0].split('-')[1] == '01' and row[0].split('-')[2] == '23':\n",
        "            date = row[0].split('-')\n",
        "            result.append(float(row[-1]))\n",
        "            year.append(date[0])\n",
        "            #print(result)\n",
        "            #print(year)\n",
        "\n",
        "plt.xlabel('Year')  # x 축 라벨 설정\n",
        "plt.ylabel('Temperature')  # y 축 라벨 설정\n",
        "plt.plot(year, result)\n",
        "plt.show()"
      ],
      "metadata": {
        "id": "9DNIzWG74amd"
      },
      "execution_count": null,
      "outputs": []
    },
    {
      "cell_type": "code",
      "source": [
        "import csv\n",
        "import matplotlib.pyplot as plt\n",
        "\n",
        "\n",
        "f =open('data1.csv')\n",
        "data = csv.reader(f)\n",
        "next(data)\n",
        "\n",
        "print(\"생일을 입력하세요\")\n",
        "m=input(\"월입력(ex.01): \")\n",
        "d=input(\"일입력(ex.23): \")\n",
        "\n",
        "high = [] # 최고 기온 값을 저장할 리스트 high 생성\n",
        "low = [] # 최저 기온 값을 저장할 리스트 low 생성\n",
        "years = []  # 연도 값을 저장할 리스트 생성\n",
        "\n",
        "for row in data:\n",
        "    if row[-1] != '' and row[-2] != '': # 최고 기온 값과 최저 기온 값이 존재한다면\n",
        "        date = row[0].split('-') # 날짜 값을 – 문자를 기준으로 구분하여 저장\n",
        "        if 2020 <= int(date[0]): # 2020년 이후 데이터라면\n",
        "            if date[1] == m and date[2] == d: # 생일로 변경(2자리수)\n",
        "                years.append(date[0]) # 해당 연도를 years 리스트에 저장\n",
        "                high.append(float(row[-1])) # 최고 기온 값을 high 리스트에 저장\n",
        "                low.append(float(row[-2])) # 최저 기온 값을 low 리스트에 저장\n",
        "# 연도를 오름차순으로 정렬\n",
        "#years, high, low = zip(*sorted(zip(years, high, low)))   #zip() 함수와 sorted() 함수를 사용하여 years 기준으로 오름차순 정렬합니다.\n",
        "\n",
        "plt.title('birthday') # 제목 설정\n",
        "plt.plot(high, 'hotpink', label = 'high') # high 리스트에 저장된 값을 hotpink 색으로 그리고 레이블을 표시\n",
        "plt.plot(years, low, 'skyblue', label='low') # 연도별 최저 기온을 skyblue 색으로 그리고 레이블을 표시\n",
        "plt.xlabel('Year')  # x 축 라벨 설정\n",
        "plt.ylabel('Temperature')  # y 축 라벨 설정\n",
        "plt.legend() # 범례 표시\n",
        "plt.show() # 그래프 나타내기"
      ],
      "metadata": {
        "id": "6pJQKSwVK4Na"
      },
      "execution_count": null,
      "outputs": []
    }
  ]
}