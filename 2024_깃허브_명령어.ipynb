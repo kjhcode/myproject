{
  "nbformat": 4,
  "nbformat_minor": 0,
  "metadata": {
    "kernelspec": {
      "display_name": "Python 3",
      "language": "python",
      "name": "python3"
    },
    "language_info": {
      "codemirror_mode": {
        "name": "ipython",
        "version": 3
      },
      "file_extension": ".py",
      "mimetype": "text/x-python",
      "name": "python",
      "nbconvert_exporter": "python",
      "pygments_lexer": "ipython3",
      "version": "3.7.1"
    },
    "colab": {
      "provenance": [],
      "include_colab_link": true
    }
  },
  "cells": [
    {
      "cell_type": "markdown",
      "metadata": {
        "id": "view-in-github",
        "colab_type": "text"
      },
      "source": [
        "<a href=\"https://colab.research.google.com/github/kjhcode/myproject/blob/main/2024_%EA%B9%83%ED%97%88%EB%B8%8C_%EB%AA%85%EB%A0%B9%EC%96%B4.ipynb\" target=\"_parent\"><img src=\"https://colab.research.google.com/assets/colab-badge.svg\" alt=\"Open In Colab\"/></a>"
      ]
    },
    {
      "cell_type": "code",
      "metadata": {
        "id": "MgZgoUZZOH_P",
        "colab": {
          "base_uri": "https://localhost:8080/"
        },
        "outputId": "005bbcc0-9bc9-4e9a-db4f-fda30e454819"
      },
      "source": [
        "!git clone https://github.com/kjhcode/2024-AISW   #clone:복제"
      ],
      "execution_count": null,
      "outputs": [
        {
          "output_type": "stream",
          "name": "stdout",
          "text": [
            "fatal: destination path '2024-AISW' already exists and is not an empty directory.\n"
          ]
        }
      ]
    },
    {
      "cell_type": "code",
      "metadata": {
        "id": "XJ2lH3uzOSZF",
        "colab": {
          "base_uri": "https://localhost:8080/"
        },
        "outputId": "4ba62c76-13ef-4ed8-99b5-a041ae50a109"
      },
      "source": [
        "ls   #속해져 있는 파일 목록"
      ],
      "execution_count": null,
      "outputs": [
        {
          "output_type": "stream",
          "name": "stdout",
          "text": [
            " \u001b[0m\u001b[01;34m2024-AISW\u001b[0m/   2024_AISW_교실_1기.ipynb   data1.csv   data.csv   README.md  '한글폰트 설치 코드.txt'\n"
          ]
        }
      ]
    },
    {
      "cell_type": "code",
      "metadata": {
        "id": "CnJaQxP6OS05",
        "colab": {
          "base_uri": "https://localhost:8080/"
        },
        "outputId": "3d9e24ff-b601-49f5-d639-3b650c991483"
      },
      "source": [
        "cd 2024-AISW #cd(체인지 디렉토리)"
      ],
      "execution_count": null,
      "outputs": [
        {
          "output_type": "stream",
          "name": "stdout",
          "text": [
            "[Errno 2] No such file or directory: '2024-AISW #cd(체인지 디렉토리)'\n",
            "/content/2024-AISW\n"
          ]
        }
      ]
    },
    {
      "cell_type": "code",
      "metadata": {
        "id": "5dVnXHSNPxUq",
        "colab": {
          "base_uri": "https://localhost:8080/"
        },
        "outputId": "05a5cfd2-6054-4ff3-bd9a-ba9d9a83efdc"
      },
      "source": [
        "ls"
      ],
      "execution_count": null,
      "outputs": [
        {
          "output_type": "stream",
          "name": "stdout",
          "text": [
            " \u001b[0m\u001b[01;34m2024-AISW\u001b[0m/   2024_AISW_교실_1기.ipynb   data1.csv   data.csv   README.md  '한글폰트 설치 코드.txt'\n"
          ]
        }
      ]
    }
  ]
}